{
 "cells": [
  {
   "cell_type": "markdown",
   "id": "7791987e",
   "metadata": {},
   "source": [
    "# Notebook with a basic example of how to run the code for diversification\n",
    "## Assumes availability of \"repro\" folder including its contents (pre-computed matrices), that are available from our OSF repository (link in README)"
   ]
  },
  {
   "cell_type": "code",
   "execution_count": 1,
   "id": "8a0a0a55",
   "metadata": {},
   "outputs": [],
   "source": [
    "import json\n",
    "import os\n",
    "import sys\n",
    "import random\n",
    "\n",
    "import numpy as np\n",
    "\n",
    "%load_ext autoreload\n",
    "%autoreload 2\n",
    "\n",
    "\n",
    "# Adjust the path so that we can import packages from src folder (sibling to examples)\n",
    "sys.path.append(\"..\")\n",
    "\n",
    "K = 10\n",
    "SEED = 42\n",
    "\n",
    "from src import metrics, diversification"
   ]
  },
  {
   "cell_type": "code",
   "execution_count": 2,
   "id": "32d5fb5f",
   "metadata": {},
   "outputs": [],
   "source": [
    "random.seed(SEED)\n",
    "np.random.seed(SEED)"
   ]
  },
  {
   "cell_type": "markdown",
   "id": "6e37c9f9",
   "metadata": {},
   "source": [
    "## Path setting, adjust accordingly"
   ]
  },
  {
   "cell_type": "code",
   "execution_count": 3,
   "id": "fb2cdd7c",
   "metadata": {},
   "outputs": [
    {
     "data": {
      "text/plain": [
       "['book_data_small.json',\n",
       " 'distance_matrix_ease.npy',\n",
       " 'distance_matrix_ease.zip',\n",
       " 'distance_matrix_genres.npy',\n",
       " 'distance_matrix_genres.zip',\n",
       " 'distance_matrix_rating.npy',\n",
       " 'distance_matrix_rating.zip',\n",
       " 'distance_matrix_tags.npy',\n",
       " 'distance_matrix_tags.zip',\n",
       " 'distance_matrix_text.npy',\n",
       " 'distance_matrix_text.zip',\n",
       " 'item_index_to_id.npy',\n",
       " 'item_index_to_id.pckl',\n",
       " 'item_item.npy',\n",
       " 'item_item.zip',\n",
       " 'rating_matrix.npy',\n",
       " 'rating_matrix.zip',\n",
       " 'text_features.npy',\n",
       " 'text_features.zip']"
      ]
     },
     "execution_count": 3,
     "metadata": {},
     "output_type": "execute_result"
    }
   ],
   "source": [
    "# Adjust accordingly\n",
    "dataset = \"goodbooks\"\n",
    "path_to_repro = \"./repro\"\n",
    "path_to_data = os.path.join(path_to_repro, dataset)\n",
    "\n",
    "os.listdir(path_to_data)"
   ]
  },
  {
   "cell_type": "markdown",
   "id": "9694efe8",
   "metadata": {},
   "source": [
    "## Data loading"
   ]
  },
  {
   "cell_type": "code",
   "execution_count": 4,
   "id": "bfe2b453",
   "metadata": {},
   "outputs": [],
   "source": [
    "# Load the item_item matrix for EASE^R algorithm\n",
    "item_item = np.load(os.path.join(path_to_data, \"item_item.npy\"))"
   ]
  },
  {
   "cell_type": "markdown",
   "id": "ddaae90e",
   "metadata": {},
   "source": [
    "1. CF-raw-ILD corresponded to intra_list_diversity over distance_matrix_rating.npy (available in OSF), see notes above on CF-ILD\n",
    "2. CB-plot-ILD corresponded to intra_list_diversity over CLIP extracted features from item plots, see notes above on CB-ILD\n",
    "3. MD-Genres-BinDiv corresponded to binomial_diversity, see notes above\n",
    "4. MD-Genres-ILD corresponded to intra_list_diversity evaluated over distance_matrix_genres.npy (available in OSF)\n",
    "5. CF-latent-ILD corresponded to intra_list_diversity evaluated over distance_matrix_ease.npy (available in OSF)\n",
    "6. MD-Tags-ILD corresponded to intra_list_diversity evaluated over distance_matrix_tags.npy (available in OSF)"
   ]
  },
  {
   "cell_type": "code",
   "execution_count": 5,
   "id": "f25d048e",
   "metadata": {},
   "outputs": [],
   "source": [
    "available_metrics = {\n",
    "    \"CF-raw-ILD\" : \"distance_matrix_rating.npy\",\n",
    "    \"CB-plot-ILD\": \"distance_matrix_text.npy\",\n",
    "    \"MD-Genres-BinDiv\": None,\n",
    "    \"MD-Genres-ILD\": \"distance_matrix_genres.npy\",\n",
    "    \"CF-latent-ILD\": \"distance_matrix_ease.npy\",\n",
    "    \"MD-Tags-ILD\": \"distance_matrix_tags.npy\"\n",
    "}\n",
    "\n",
    "# These are the metrics that were used for diversification\n",
    "available_diversification_metrics = {\n",
    "    \"CF-raw-ILD\", \"CB-plot-ILD\", \"MD-Genres-BinDiv\"\n",
    "}\n",
    "\n",
    "# Change this to metric you want to diversify w.r.t.\n",
    "selected_metric = \"CF-raw-ILD\"\n",
    "\n",
    "assert selected_metric in available_diversification_metrics"
   ]
  },
  {
   "cell_type": "code",
   "execution_count": 6,
   "id": "08bf58ee",
   "metadata": {},
   "outputs": [],
   "source": [
    "# Prepare the diversity function\n",
    "if selected_metric == \"MD-Genres-BinDiv\":\n",
    "    rating_matrix = np.load(os.path.join(path_to_data, \"rating_matrix.npy\"))\n",
    "\n",
    "    if dataset == \"movielens\":\n",
    "        data_small_path = os.path.join(path_to_data, \"movie_data_small.json\")\n",
    "    elif dataset == \"goodbooks\":\n",
    "        data_small_path = os.path.join(path_to_data, \"book_data_small.json\")\n",
    "    else:\n",
    "        assert False, f\"Unknown dataset: {dataset}\"\n",
    "    \n",
    "    with open(data_small_path, \"r\") as f:\n",
    "        data_small = json.load(f)\n",
    "        data_small = {int(k) : v for k,v in data_small.items()}\n",
    "    \n",
    "    # Prepare genre data needed for BIN-DIV\n",
    "    all_genres = set()\n",
    "    for m_id, x in data_small.items():\n",
    "        if x and \"genres\" in x:\n",
    "            all_genres.update(x[\"genres\"])\n",
    "\n",
    "    item_index_to_id = np.load(os.path.join(path_to_data, \"item_index_to_id.npy\"))\n",
    "            \n",
    "    all_categories = all_genres\n",
    "    item_to_genres = {item_id : x[\"genres\"] if x is not None and \"genres\" in x else [] for item_id, x in data_small.items()}\n",
    "    get_item_categories = lambda item_idx: item_to_genres[item_index_to_id[item_idx]]\n",
    "    \n",
    "    diversity_func = metrics.binomial_diversity(all_categories, get_item_categories, rating_matrix, 0.0, dataset)\n",
    "    all_items = np.arange(rating_matrix.shape[1])\n",
    "else:\n",
    "    assert available_metrics[selected_metric] is not None\n",
    "    distance_matrix = np.load(os.path.join(path_to_data, available_metrics[selected_metric]))\n",
    "    diversity_func = metrics.intra_list_diversity(distance_matrix)\n",
    "    all_items = np.arange(distance_matrix.shape[0])"
   ]
  },
  {
   "cell_type": "code",
   "execution_count": 7,
   "id": "3f581962",
   "metadata": {},
   "outputs": [
    {
     "data": {
      "text/plain": [
       "0.9956775325932297"
      ]
     },
     "execution_count": 7,
     "metadata": {},
     "output_type": "execute_result"
    }
   ],
   "source": [
    "## NOTE: if you are using binomial diversity, then this might be extremely slow (~minutes) for the first time, before full-cache is built\n",
    "K = 10\n",
    "diversity_func(np.random.choice(all_items, K))"
   ]
  },
  {
   "cell_type": "code",
   "execution_count": 8,
   "id": "863165f2",
   "metadata": {},
   "outputs": [
    {
     "data": {
      "text/plain": [
       "<src.diversification.EASER_pretrained at 0x26d2e0c3b20>"
      ]
     },
     "execution_count": 8,
     "metadata": {},
     "output_type": "execute_result"
    }
   ],
   "source": [
    "ease = diversification.EASER_pretrained(all_items)\n",
    "ease.load(os.path.join(path_to_data, \"item_item.npy\"))"
   ]
  },
  {
   "cell_type": "code",
   "execution_count": 9,
   "id": "60d98294",
   "metadata": {},
   "outputs": [],
   "source": [
    "# Simulate that user selected 20 random items during elicitation\n",
    "elicitation_selected = np.random.choice(all_items, 20)\n",
    "rel_scores, user_vector, ease_pred = ease.predict_with_score(elicitation_selected, elicitation_selected, K)"
   ]
  },
  {
   "cell_type": "code",
   "execution_count": 10,
   "id": "879b2471",
   "metadata": {},
   "outputs": [
    {
     "data": {
      "text/plain": [
       "20.0"
      ]
     },
     "execution_count": 10,
     "metadata": {},
     "output_type": "execute_result"
    }
   ],
   "source": [
    "user_vector.sum() # The vector has 1 at positions corresponding to items selected during elicitation"
   ]
  },
  {
   "cell_type": "code",
   "execution_count": 11,
   "id": "07e2fe61",
   "metadata": {},
   "outputs": [
    {
     "data": {
      "text/plain": [
       "[3402, 3379, 13, 3, 2595, 4283, 482, 28, 131, 58]"
      ]
     },
     "execution_count": 11,
     "metadata": {},
     "output_type": "execute_result"
    }
   ],
   "source": [
    "ease_pred # Recommendation generated by ease"
   ]
  },
  {
   "cell_type": "code",
   "execution_count": 12,
   "id": "5d0d2f83",
   "metadata": {},
   "outputs": [
    {
     "data": {
      "text/plain": [
       "array([-0.28242746,  0.06394224, -0.00872109, ..., -0.00350679,\n",
       "       -0.00344402, -0.00733405], dtype=float32)"
      ]
     },
     "execution_count": 12,
     "metadata": {},
     "output_type": "execute_result"
    }
   ],
   "source": [
    "rel_scores # For each item, the estimated relevance"
   ]
  },
  {
   "cell_type": "code",
   "execution_count": 13,
   "id": "435205a6",
   "metadata": {},
   "outputs": [
    {
     "data": {
      "text/plain": [
       "0.9230546686641876"
      ]
     },
     "execution_count": 13,
     "metadata": {},
     "output_type": "execute_result"
    }
   ],
   "source": [
    "diversity_func(ease_pred)"
   ]
  },
  {
   "cell_type": "code",
   "execution_count": 14,
   "id": "6760dafb",
   "metadata": {},
   "outputs": [
    {
     "name": "stdout",
     "output_type": "stream",
     "text": [
      "Running diversification w.r.t. CF-raw-ILD\n",
      "Initial relevance-only recommendation: [3402 3379   13    3 2595 4283  482   28  131   58]\n",
      "\n",
      "alpha=0.0, gives: [3402 3379   13    3 2595 4283  482   28  131   58]\n",
      "\twhich has relevance=4.317315578460693, and diversity: 0.9230546686641876\n",
      "alpha=0.5, gives: [3402 4283 1232 2554 1743 2852 5174 2616 1038 3362]\n",
      "\twhich has relevance=2.5135202407836914, and diversity: 0.9979832343737881\n",
      "alpha=1.0, gives: [3402 4283 4205 2554 6529 5277 4418 5913 4904 4537]\n",
      "\twhich has relevance=1.4175206422805786, and diversity: 1.0\n"
     ]
    }
   ],
   "source": [
    "# Now run the diversification\n",
    "\n",
    "def relevance_func(top_k):\n",
    "    return rel_scores[top_k].sum()\n",
    "\n",
    "print(f\"Running diversification w.r.t. {selected_metric}\")\n",
    "print(f\"Initial relevance-only recommendation: {np.array(ease_pred)}\")\n",
    "print(\"\")\n",
    "\n",
    "for alpha in [0.0, 0.5, 1.0]:\n",
    "    diversified_top_k = diversification.diversify(K, rel_scores, alpha, all_items, relevance_func, diversity_func, rating_row=user_vector, filter_out_items=elicitation_selected, n_items_subset=500)\n",
    "    print(f\"alpha={alpha}, gives: {diversified_top_k}\")\n",
    "    print(f\"\\twhich has relevance={relevance_func(diversified_top_k)}, and diversity: {diversity_func(diversified_top_k)}\")"
   ]
  }
 ],
 "metadata": {
  "kernelspec": {
   "display_name": "Python 3 (ipykernel)",
   "language": "python",
   "name": "python3"
  },
  "language_info": {
   "codemirror_mode": {
    "name": "ipython",
    "version": 3
   },
   "file_extension": ".py",
   "mimetype": "text/x-python",
   "name": "python",
   "nbconvert_exporter": "python",
   "pygments_lexer": "ipython3",
   "version": "3.9.6"
  }
 },
 "nbformat": 4,
 "nbformat_minor": 5
}
